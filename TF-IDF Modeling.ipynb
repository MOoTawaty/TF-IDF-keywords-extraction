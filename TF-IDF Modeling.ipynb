{
 "cells": [
  {
   "cell_type": "markdown",
   "id": "7f7bed93",
   "metadata": {},
   "source": [
    "## Reading the data"
   ]
  },
  {
   "cell_type": "code",
   "execution_count": 278,
   "id": "a47da171",
   "metadata": {},
   "outputs": [
    {
     "name": "stdout",
     "output_type": "stream",
     "text": [
      "['robotics design construction and use of machines robots to perform tasks done traditionally by human beings ', 'robots are widely used in such industries as automobile manufacture to perform simple repetitive tasks and in industries where work must be performed in environments hazardous to humans ', 'many aspects of robotics involve artificial intelligence robots may be equipped with the equivalent of human senses such as vision touch and the ability to sense temperature ', 'some are even capable of simple decision making and current robotics research is geared toward devising robots with a degree of selfsufficiency that will permit mobility and decisionmaking in an unstructured environment ', 'today’s industrial robots do not resemble human beings a robot in human form is called an android']\n"
     ]
    }
   ],
   "source": [
    "import nltk\n",
    "import re\n",
    "import string\n",
    "\n",
    "def read_data(file):\n",
    "    with open(file, \"r\", encoding=\"utf-8\") as f:\n",
    "        data = f.read()\n",
    "    return data\n",
    "\n",
    "data = read_data('data.txt')\n",
    "data = data.lower()\n",
    "data = data.translate(str.maketrans('', '', string.punctuation))\n",
    "lines = data.split('\\n')\n",
    "print(lines)"
   ]
  },
  {
   "cell_type": "markdown",
   "id": "7f05c8aa",
   "metadata": {},
   "source": [
    "## Extracting inglish verbs"
   ]
  },
  {
   "cell_type": "code",
   "execution_count": 279,
   "id": "0955710d",
   "metadata": {},
   "outputs": [],
   "source": [
    "verbs = read_data('verbs.txt')\n",
    "verbs = verbs.translate(str.maketrans('', '', string.punctuation))\n",
    "verbs = verbs.split('\\n')\n",
    "#print(verbs)\n",
    "\n",
    "vectorizer = TfidfVectorizer()\n",
    "matrix  = vectorizer.fit_transform(verbs)\n",
    "verbs = vectorizer.get_feature_names_out()\n",
    "verbs_list = []\n",
    "for i in range(len(verbs)):\n",
    "    verbs_list.append(verbs[i])"
   ]
  },
  {
   "cell_type": "markdown",
   "id": "bb11e60d",
   "metadata": {},
   "source": [
    "## Stop Words"
   ]
  },
  {
   "cell_type": "code",
   "execution_count": 280,
   "id": "b52acbf9",
   "metadata": {},
   "outputs": [],
   "source": [
    "from sklearn.feature_extraction.text import TfidfVectorizer\n",
    "from nltk.corpus import stopwords\n",
    "\n",
    "addtional_words = ['used', 'human', 'wide', 'vision', 'ability', 'repetitive', 'performed', 'environments', 'permit', 'sense', 'beings', 'use', 'must', 'may', 'work', 'simple' 'traditionally', 'called', 'perform','done', 'develop','difficult', 'without', 'form', 'variety','unfeasible', 'part', 'seen', 'speech', 'study', 'tasks', 'training','improve', 'needed']\n",
    "stop_words = stopwords.words('english')\n",
    "useless_words = stop_words + addtional_words + verbs_list\n",
    "# print(\"stop_words\\n\", stop_words)"
   ]
  },
  {
   "cell_type": "markdown",
   "id": "94558461",
   "metadata": {},
   "source": [
    "## Cleaning & Modeling the data with TF-IDFVectorizer"
   ]
  },
  {
   "cell_type": "code",
   "execution_count": 281,
   "id": "033b39a3",
   "metadata": {},
   "outputs": [
    {
     "name": "stdout",
     "output_type": "stream",
     "text": [
      "Feature Names \n",
      " ['artificial intelligence' 'mobility decisionmaking' 'research geared'\n",
      " 'resemble robot' 'robot android' 'robotics design' 'robotics involve'\n",
      " 'robotics research' 'robots degree' 'robots equipped' 'robots resemble'\n",
      " 'robots traditionally' 'robots widely' 'selfsufficiency mobility'\n",
      " 'senses touch' 'simple decision' 'simple industries' 'today industrial'\n",
      " 'touch temperature' 'toward devising']\n"
     ]
    }
   ],
   "source": [
    "#vectorizer = TfidfVectorizer(stop_words = useless_words, ngram_range=(2,2),)\n",
    "vectorizer = TfidfVectorizer(stop_words = useless_words, ngram_range=(2,2), max_features=20)\n",
    "matrix  = vectorizer.fit_transform(lines)\n",
    "features = vectorizer.get_feature_names_out()\n",
    "print(\"Feature Names \\n\", features)"
   ]
  },
  {
   "cell_type": "code",
   "execution_count": 282,
   "id": "6480df58",
   "metadata": {},
   "outputs": [
    {
     "name": "stdout",
     "output_type": "stream",
     "text": [
      "Size of the Matrix \n",
      " (5, 20)\n"
     ]
    }
   ],
   "source": [
    "print(\"Size of the Matrix \\n\", matrix.shape)"
   ]
  },
  {
   "cell_type": "code",
   "execution_count": 283,
   "id": "95842036",
   "metadata": {},
   "outputs": [],
   "source": [
    "import numpy as np\n",
    "from numpy import unravel_index\n",
    "\n",
    "def top_features(number_of_features):\n",
    "    # number of rews to take the max feature onetime only\n",
    "    rows = len(data)\n",
    "    list_features = []\n",
    "    for i in range(number_of_features):\n",
    "        max_value_index = unravel_index(data.argmax(), data.shape)\n",
    "        rew = max_value_index[0]\n",
    "        culomn = max_value_index[1]\n",
    "        for j in range(rows):\n",
    "            # making all columns of the chosen feature equal zero\n",
    "            data[j][culomn] = 0.0\n",
    "        list_features.append(features[culomn])\n",
    "    return list_features"
   ]
  },
  {
   "cell_type": "markdown",
   "id": "3dc576bb",
   "metadata": {},
   "source": [
    "# Top features selected"
   ]
  },
  {
   "cell_type": "code",
   "execution_count": 295,
   "id": "f866abcd",
   "metadata": {},
   "outputs": [
    {
     "name": "stdout",
     "output_type": "stream",
     "text": [
      "['robotics design', 'robots traditionally', 'robots widely', 'simple industries']\n"
     ]
    }
   ],
   "source": [
    "data = matrix.toarray()\n",
    "vector = top_features(4)\n",
    "print(vector)"
   ]
  },
  {
   "cell_type": "code",
   "execution_count": 296,
   "id": "a4379ff9",
   "metadata": {},
   "outputs": [
    {
     "data": {
      "text/html": [
       "<div>\n",
       "<style scoped>\n",
       "    .dataframe tbody tr th:only-of-type {\n",
       "        vertical-align: middle;\n",
       "    }\n",
       "\n",
       "    .dataframe tbody tr th {\n",
       "        vertical-align: top;\n",
       "    }\n",
       "\n",
       "    .dataframe thead th {\n",
       "        text-align: right;\n",
       "    }\n",
       "</style>\n",
       "<table border=\"1\" class=\"dataframe\">\n",
       "  <thead>\n",
       "    <tr style=\"text-align: right;\">\n",
       "      <th></th>\n",
       "      <th>artificial intelligence</th>\n",
       "      <th>mobility decisionmaking</th>\n",
       "      <th>research geared</th>\n",
       "      <th>resemble robot</th>\n",
       "      <th>robot android</th>\n",
       "      <th>robotics design</th>\n",
       "      <th>robotics involve</th>\n",
       "      <th>robotics research</th>\n",
       "      <th>robots degree</th>\n",
       "      <th>robots equipped</th>\n",
       "      <th>robots resemble</th>\n",
       "      <th>robots traditionally</th>\n",
       "      <th>robots widely</th>\n",
       "      <th>selfsufficiency mobility</th>\n",
       "      <th>senses touch</th>\n",
       "      <th>simple decision</th>\n",
       "      <th>simple industries</th>\n",
       "      <th>today industrial</th>\n",
       "      <th>touch temperature</th>\n",
       "      <th>toward devising</th>\n",
       "    </tr>\n",
       "  </thead>\n",
       "  <tbody>\n",
       "    <tr>\n",
       "      <th>0</th>\n",
       "      <td>0.000000</td>\n",
       "      <td>0.000000</td>\n",
       "      <td>0.000000</td>\n",
       "      <td>0.0</td>\n",
       "      <td>0.0</td>\n",
       "      <td>0.707107</td>\n",
       "      <td>0.000000</td>\n",
       "      <td>0.000000</td>\n",
       "      <td>0.000000</td>\n",
       "      <td>0.000000</td>\n",
       "      <td>0.0</td>\n",
       "      <td>0.707107</td>\n",
       "      <td>0.000000</td>\n",
       "      <td>0.000000</td>\n",
       "      <td>0.000000</td>\n",
       "      <td>0.000000</td>\n",
       "      <td>0.000000</td>\n",
       "      <td>0.0</td>\n",
       "      <td>0.000000</td>\n",
       "      <td>0.000000</td>\n",
       "    </tr>\n",
       "    <tr>\n",
       "      <th>1</th>\n",
       "      <td>0.000000</td>\n",
       "      <td>0.000000</td>\n",
       "      <td>0.000000</td>\n",
       "      <td>0.0</td>\n",
       "      <td>0.0</td>\n",
       "      <td>0.000000</td>\n",
       "      <td>0.000000</td>\n",
       "      <td>0.000000</td>\n",
       "      <td>0.000000</td>\n",
       "      <td>0.000000</td>\n",
       "      <td>0.0</td>\n",
       "      <td>0.000000</td>\n",
       "      <td>0.707107</td>\n",
       "      <td>0.000000</td>\n",
       "      <td>0.000000</td>\n",
       "      <td>0.000000</td>\n",
       "      <td>0.707107</td>\n",
       "      <td>0.0</td>\n",
       "      <td>0.000000</td>\n",
       "      <td>0.000000</td>\n",
       "    </tr>\n",
       "    <tr>\n",
       "      <th>2</th>\n",
       "      <td>0.447214</td>\n",
       "      <td>0.000000</td>\n",
       "      <td>0.000000</td>\n",
       "      <td>0.0</td>\n",
       "      <td>0.0</td>\n",
       "      <td>0.000000</td>\n",
       "      <td>0.447214</td>\n",
       "      <td>0.000000</td>\n",
       "      <td>0.000000</td>\n",
       "      <td>0.447214</td>\n",
       "      <td>0.0</td>\n",
       "      <td>0.000000</td>\n",
       "      <td>0.000000</td>\n",
       "      <td>0.000000</td>\n",
       "      <td>0.447214</td>\n",
       "      <td>0.000000</td>\n",
       "      <td>0.000000</td>\n",
       "      <td>0.0</td>\n",
       "      <td>0.447214</td>\n",
       "      <td>0.000000</td>\n",
       "    </tr>\n",
       "    <tr>\n",
       "      <th>3</th>\n",
       "      <td>0.000000</td>\n",
       "      <td>0.377964</td>\n",
       "      <td>0.377964</td>\n",
       "      <td>0.0</td>\n",
       "      <td>0.0</td>\n",
       "      <td>0.000000</td>\n",
       "      <td>0.000000</td>\n",
       "      <td>0.377964</td>\n",
       "      <td>0.377964</td>\n",
       "      <td>0.000000</td>\n",
       "      <td>0.0</td>\n",
       "      <td>0.000000</td>\n",
       "      <td>0.000000</td>\n",
       "      <td>0.377964</td>\n",
       "      <td>0.000000</td>\n",
       "      <td>0.377964</td>\n",
       "      <td>0.000000</td>\n",
       "      <td>0.0</td>\n",
       "      <td>0.000000</td>\n",
       "      <td>0.377964</td>\n",
       "    </tr>\n",
       "    <tr>\n",
       "      <th>4</th>\n",
       "      <td>0.000000</td>\n",
       "      <td>0.000000</td>\n",
       "      <td>0.000000</td>\n",
       "      <td>0.5</td>\n",
       "      <td>0.5</td>\n",
       "      <td>0.000000</td>\n",
       "      <td>0.000000</td>\n",
       "      <td>0.000000</td>\n",
       "      <td>0.000000</td>\n",
       "      <td>0.000000</td>\n",
       "      <td>0.5</td>\n",
       "      <td>0.000000</td>\n",
       "      <td>0.000000</td>\n",
       "      <td>0.000000</td>\n",
       "      <td>0.000000</td>\n",
       "      <td>0.000000</td>\n",
       "      <td>0.000000</td>\n",
       "      <td>0.5</td>\n",
       "      <td>0.000000</td>\n",
       "      <td>0.000000</td>\n",
       "    </tr>\n",
       "  </tbody>\n",
       "</table>\n",
       "</div>"
      ],
      "text/plain": [
       "   artificial intelligence  mobility decisionmaking  research geared  \\\n",
       "0                 0.000000                 0.000000         0.000000   \n",
       "1                 0.000000                 0.000000         0.000000   \n",
       "2                 0.447214                 0.000000         0.000000   \n",
       "3                 0.000000                 0.377964         0.377964   \n",
       "4                 0.000000                 0.000000         0.000000   \n",
       "\n",
       "   resemble robot  robot android  robotics design  robotics involve  \\\n",
       "0             0.0            0.0         0.707107          0.000000   \n",
       "1             0.0            0.0         0.000000          0.000000   \n",
       "2             0.0            0.0         0.000000          0.447214   \n",
       "3             0.0            0.0         0.000000          0.000000   \n",
       "4             0.5            0.5         0.000000          0.000000   \n",
       "\n",
       "   robotics research  robots degree  robots equipped  robots resemble  \\\n",
       "0           0.000000       0.000000         0.000000              0.0   \n",
       "1           0.000000       0.000000         0.000000              0.0   \n",
       "2           0.000000       0.000000         0.447214              0.0   \n",
       "3           0.377964       0.377964         0.000000              0.0   \n",
       "4           0.000000       0.000000         0.000000              0.5   \n",
       "\n",
       "   robots traditionally  robots widely  selfsufficiency mobility  \\\n",
       "0              0.707107       0.000000                  0.000000   \n",
       "1              0.000000       0.707107                  0.000000   \n",
       "2              0.000000       0.000000                  0.000000   \n",
       "3              0.000000       0.000000                  0.377964   \n",
       "4              0.000000       0.000000                  0.000000   \n",
       "\n",
       "   senses touch  simple decision  simple industries  today industrial  \\\n",
       "0      0.000000         0.000000           0.000000               0.0   \n",
       "1      0.000000         0.000000           0.707107               0.0   \n",
       "2      0.447214         0.000000           0.000000               0.0   \n",
       "3      0.000000         0.377964           0.000000               0.0   \n",
       "4      0.000000         0.000000           0.000000               0.5   \n",
       "\n",
       "   touch temperature  toward devising  \n",
       "0           0.000000         0.000000  \n",
       "1           0.000000         0.000000  \n",
       "2           0.447214         0.000000  \n",
       "3           0.000000         0.377964  \n",
       "4           0.000000         0.000000  "
      ]
     },
     "execution_count": 296,
     "metadata": {},
     "output_type": "execute_result"
    }
   ],
   "source": [
    "import pandas as pd\n",
    "\n",
    "pd.DataFrame(matrix.toarray(), columns = vectorizer.get_feature_names_out())"
   ]
  }
 ],
 "metadata": {
  "kernelspec": {
   "display_name": "Python 3 (ipykernel)",
   "language": "python",
   "name": "python3"
  },
  "language_info": {
   "codemirror_mode": {
    "name": "ipython",
    "version": 3
   },
   "file_extension": ".py",
   "mimetype": "text/x-python",
   "name": "python",
   "nbconvert_exporter": "python",
   "pygments_lexer": "ipython3",
   "version": "3.10.1"
  }
 },
 "nbformat": 4,
 "nbformat_minor": 5
}
