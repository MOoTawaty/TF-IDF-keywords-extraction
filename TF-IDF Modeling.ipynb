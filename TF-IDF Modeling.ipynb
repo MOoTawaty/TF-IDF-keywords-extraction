{
 "cells": [
  {
   "cell_type": "markdown",
   "id": "f3a1b4a5",
   "metadata": {},
   "source": [
    "## Reading the data"
   ]
  },
  {
   "cell_type": "code",
   "execution_count": 49,
   "id": "a5b6c689",
   "metadata": {},
   "outputs": [
    {
     "name": "stdout",
     "output_type": "stream",
     "text": [
      "['robotics design construction and use of machines robots to perform tasks done traditionally by human beings ', 'robots are widely used in such industries as automobile manufacture to perform simple repetitive tasks and in industries where work must be performed in environments hazardous to humans ', 'many aspects of robotics involve artificial intelligence robots may be equipped with the equivalent of human senses such as vision touch and the ability to sense temperature ', 'some are even capable of simple decision making and current robotics research is geared toward devising robots with a degree of selfsufficiency that will permit mobility and decisionmaking in an unstructured environment ', 'today’s industrial robots do not resemble human beings a robot in human form is called an android']\n"
     ]
    }
   ],
   "source": [
    "import nltk\n",
    "import re\n",
    "import string\n",
    "\n",
    "def read_data(file):\n",
    "    with open(file, \"r\", encoding=\"utf-8\") as f:\n",
    "        data = f.read()\n",
    "    return data\n",
    "\n",
    "data = read_data('data.txt')\n",
    "data = data.lower()\n",
    "data = data.translate(str.maketrans('', '', string.punctuation))\n",
    "lines = data.split('\\n')\n",
    "print(lines)"
   ]
  },
  {
   "cell_type": "markdown",
   "id": "62e24c79",
   "metadata": {},
   "source": [
    "## Extracting english verbs"
   ]
  },
  {
   "cell_type": "code",
   "execution_count": 50,
   "id": "b3805afa",
   "metadata": {},
   "outputs": [],
   "source": [
    "def extracted_english_word(file_name):\n",
    "    words = read_data(file_name)\n",
    "    words = words.translate(str.maketrans('', '', string.punctuation))\n",
    "    words = words.split('\\n')\n",
    "    \n",
    "    vectorizer = TfidfVectorizer()\n",
    "    matrix  = vectorizer.fit_transform(words)\n",
    "    words = vectorizer.get_feature_names_out()\n",
    "    words_list = []\n",
    "    for i in range(len(words)):\n",
    "        words_list.append(words[i])\n",
    "    return words_list\n",
    "    "
   ]
  },
  {
   "cell_type": "markdown",
   "id": "2c24a1bf",
   "metadata": {},
   "source": [
    "## Stop Words"
   ]
  },
  {
   "cell_type": "code",
   "execution_count": 67,
   "id": "b52acbf9",
   "metadata": {},
   "outputs": [],
   "source": [
    "from sklearn.feature_extraction.text import TfidfVectorizer\n",
    "from nltk.corpus import stopwords\n",
    "\n",
    "verbs = extracted_english_word('verbs.txt')\n",
    "adjectives = extracted_english_word('adjectives.txt')\n",
    "adverbs = extracted_english_word('adverbs.txt')\n",
    "#print(adverbs)\n",
    "\n",
    "addtional_words = ['used', 'human', 'wide', 'vision', 'ability', 'repetitive', 'performed', 'environments', 'permit', 'sense', 'beings', 'use', 'must', 'may', 'work', 'simple' 'traditionally', 'called', 'perform','done', 'develop','difficult', 'without', 'form', 'variety','unfeasible', 'part', 'seen', 'speech', 'study', 'tasks', 'training','improve', 'needed']\n",
    "stop_words = stopwords.words('english')\n",
    "useless_words = stop_words + addtional_words + verbs_list + adjectives + adverbs\n",
    "#print(\"stop_words\\n\", useless_words)"
   ]
  },
  {
   "cell_type": "markdown",
   "id": "ff954028",
   "metadata": {},
   "source": [
    "## Cleaning & Modeling the data with TF-IDFVectorizer"
   ]
  },
  {
   "cell_type": "code",
   "execution_count": 78,
   "id": "033b39a3",
   "metadata": {},
   "outputs": [
    {
     "name": "stdout",
     "output_type": "stream",
     "text": [
      "Feature Names \n",
      " ['artificial intelligence' 'aspects robotics' 'machines robots'\n",
      " 'manufacture simple' 'many aspects' 'mobility decisionmaking'\n",
      " 'research geared' 'resemble robot' 'robot android' 'robotics design'\n",
      " 'robotics involve' 'robotics research' 'robots degree' 'robots equipped'\n",
      " 'robots resemble' 'robots traditionally' 'robots widely'\n",
      " 'selfsufficiency mobility' 'senses touch' 'simple decision'\n",
      " 'simple industries' 'today industrial' 'touch temperature'\n",
      " 'toward devising' 'unstructured environment']\n"
     ]
    }
   ],
   "source": [
    "#vectorizer = TfidfVectorizer(stop_words = useless_words, ngram_range=(2,2),)\n",
    "vectorizer = TfidfVectorizer(stop_words = useless_words, ngram_range=(2,2), max_features=25)\n",
    "matrix  = vectorizer.fit_transform(lines)\n",
    "features = vectorizer.get_feature_names_out()\n",
    "print(\"Feature Names \\n\", features)"
   ]
  },
  {
   "cell_type": "code",
   "execution_count": 79,
   "id": "6480df58",
   "metadata": {},
   "outputs": [
    {
     "name": "stdout",
     "output_type": "stream",
     "text": [
      "Size of the Matrix \n",
      " (5, 25)\n"
     ]
    }
   ],
   "source": [
    "print(\"Size of the Matrix \\n\", matrix.shape)"
   ]
  },
  {
   "cell_type": "code",
   "execution_count": 80,
   "id": "95842036",
   "metadata": {},
   "outputs": [],
   "source": [
    "import numpy as np\n",
    "from numpy import unravel_index\n",
    "\n",
    "def top_features(number_of_features):\n",
    "    # number of rews to take the max feature onetime only\n",
    "    rows = len(data)\n",
    "    list_features = []\n",
    "    for i in range(number_of_features):\n",
    "        max_value_index = unravel_index(data.argmax(), data.shape)\n",
    "        rew = max_value_index[0]\n",
    "        culomn = max_value_index[1]\n",
    "        for j in range(rows):\n",
    "            # making all columns of the chosen feature equal zero\n",
    "            data[j][culomn] = 0.0\n",
    "        list_features.append(features[culomn])\n",
    "    return list_features"
   ]
  },
  {
   "cell_type": "markdown",
   "id": "3392d05d",
   "metadata": {},
   "source": [
    "# Top features selected"
   ]
  },
  {
   "cell_type": "code",
   "execution_count": 81,
   "id": "15c57490",
   "metadata": {},
   "outputs": [
    {
     "name": "stdout",
     "output_type": "stream",
     "text": [
      "['machines robots', 'robotics design', 'robots traditionally', 'manufacture simple', 'robots widely']\n"
     ]
    }
   ],
   "source": [
    "data = matrix.toarray()\n",
    "vector = top_features(5)\n",
    "print(vector)"
   ]
  },
  {
   "cell_type": "code",
   "execution_count": 83,
   "id": "a4379ff9",
   "metadata": {},
   "outputs": [],
   "source": [
    "# import pandas as pd\n",
    "# pd.DataFrame(matrix.toarray(), columns = vectorizer.get_feature_names_out())"
   ]
  },
  {
   "cell_type": "code",
   "execution_count": null,
   "id": "1be234df",
   "metadata": {},
   "outputs": [],
   "source": []
  },
  {
   "cell_type": "code",
   "execution_count": null,
   "id": "8515be10",
   "metadata": {},
   "outputs": [],
   "source": []
  }
 ],
 "metadata": {
  "kernelspec": {
   "display_name": "Python 3 (ipykernel)",
   "language": "python",
   "name": "python3"
  },
  "language_info": {
   "codemirror_mode": {
    "name": "ipython",
    "version": 3
   },
   "file_extension": ".py",
   "mimetype": "text/x-python",
   "name": "python",
   "nbconvert_exporter": "python",
   "pygments_lexer": "ipython3",
   "version": "3.10.1"
  }
 },
 "nbformat": 4,
 "nbformat_minor": 5
}
